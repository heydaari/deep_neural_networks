{
  "nbformat": 4,
  "nbformat_minor": 0,
  "metadata": {
    "colab": {
      "provenance": []
    },
    "kernelspec": {
      "name": "python3",
      "display_name": "Python 3"
    },
    "language_info": {
      "name": "python"
    }
  },
  "cells": [
    {
      "cell_type": "markdown",
      "source": [
        "# Deep fully Connected Neural Network with Tensorflow-Keras functional API"
      ],
      "metadata": {
        "id": "X-Zl5Ck4ELnR"
      }
    },
    {
      "cell_type": "code",
      "execution_count": 1,
      "metadata": {
        "colab": {
          "base_uri": "https://localhost:8080/"
        },
        "id": "c0WidWxlEKUF",
        "outputId": "6e1fdea7-3835-421e-8c25-991107e61a6b"
      },
      "outputs": [
        {
          "output_type": "stream",
          "name": "stdout",
          "text": [
            "Downloading data from https://storage.googleapis.com/tensorflow/tf-keras-datasets/mnist.npz\n",
            "11490434/11490434 [==============================] - 0s 0us/step\n",
            "<class 'numpy.ndarray'> (60000, 784)\n",
            "<class 'numpy.ndarray'> (10000, 784)\n",
            "<class 'numpy.ndarray'> (60000,)\n",
            "<class 'numpy.ndarray'> (10000,)\n",
            "Epoch 1/10\n",
            "1875/1875 [==============================] - 22s 11ms/step - loss: 0.5753 - accuracy: 0.8557 - val_loss: 0.2937 - val_accuracy: 0.9159\n",
            "Epoch 2/10\n",
            "1875/1875 [==============================] - 14s 8ms/step - loss: 0.2711 - accuracy: 0.9225 - val_loss: 0.2295 - val_accuracy: 0.9340\n",
            "Epoch 3/10\n",
            "1875/1875 [==============================] - 13s 7ms/step - loss: 0.2188 - accuracy: 0.9376 - val_loss: 0.1918 - val_accuracy: 0.9440\n",
            "Epoch 4/10\n",
            "1875/1875 [==============================] - 14s 7ms/step - loss: 0.1849 - accuracy: 0.9469 - val_loss: 0.1659 - val_accuracy: 0.9520\n",
            "Epoch 5/10\n",
            "1875/1875 [==============================] - 14s 7ms/step - loss: 0.1596 - accuracy: 0.9543 - val_loss: 0.1473 - val_accuracy: 0.9558\n",
            "Epoch 6/10\n",
            "1875/1875 [==============================] - 13s 7ms/step - loss: 0.1403 - accuracy: 0.9597 - val_loss: 0.1369 - val_accuracy: 0.9594\n",
            "Epoch 7/10\n",
            "1875/1875 [==============================] - 13s 7ms/step - loss: 0.1250 - accuracy: 0.9652 - val_loss: 0.1237 - val_accuracy: 0.9621\n",
            "Epoch 8/10\n",
            "1875/1875 [==============================] - 15s 8ms/step - loss: 0.1119 - accuracy: 0.9690 - val_loss: 0.1223 - val_accuracy: 0.9637\n",
            "Epoch 9/10\n",
            "1875/1875 [==============================] - 14s 8ms/step - loss: 0.1014 - accuracy: 0.9718 - val_loss: 0.1068 - val_accuracy: 0.9685\n",
            "Epoch 10/10\n",
            "1875/1875 [==============================] - 15s 8ms/step - loss: 0.0925 - accuracy: 0.9741 - val_loss: 0.0996 - val_accuracy: 0.9706\n"
          ]
        },
        {
          "output_type": "execute_result",
          "data": {
            "text/plain": [
              "<keras.src.callbacks.History at 0x7c767a2350f0>"
            ]
          },
          "metadata": {},
          "execution_count": 1
        }
      ],
      "source": [
        "import tensorflow as tf\n",
        "from tensorflow import keras\n",
        "\n",
        "\n",
        "# Load MNIST dataset\n",
        "(x_train, y_train), (x_test, y_test) = tf.keras.datasets.mnist.load_data()\n",
        "\n",
        "# Preprocess data : all pixels in range 0 to 1\n",
        "x_train, x_test = x_train / 255.0, x_test / 255.0\n",
        "\n",
        "# Flattenning Images\n",
        "x_train = x_train.reshape(-1, 784)\n",
        "x_test = x_test.reshape(-1, 784)\n",
        "\n",
        "print(type(x_train), x_train.shape)\n",
        "print(type(x_test), x_test.shape)\n",
        "print(type(y_train), y_train.shape)\n",
        "print(type(y_test), y_test.shape)\n",
        "\n",
        "# Defining layers\n",
        "input = keras.layers.Input(shape = [28 * 28])\n",
        "dense_1 = keras.layers.Dense(units = 512, activation = 'relu')(input)\n",
        "dense_2 = keras.layers.Dense(units = 512 , activation = 'relu')(dense_1)\n",
        "output = keras.layers.Dense(units = 10, activation = 'softmax')(dense_2)\n",
        "\n",
        "# Defining Model\n",
        "model = keras.models.Model(inputs= input, outputs = output)\n",
        "\n",
        "\n",
        "model.compile(loss = 'sparse_categorical_crossentropy', optimizer = 'sgd', metrics=['accuracy'])\n",
        "\n",
        "model.fit(x_train, y_train, validation_data = (x_test, y_test), epochs = 10 )\n",
        "\n"
      ]
    }
  ]
}