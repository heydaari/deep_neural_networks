{
  "nbformat": 4,
  "nbformat_minor": 0,
  "metadata": {
    "colab": {
      "provenance": []
    },
    "kernelspec": {
      "name": "python3",
      "display_name": "Python 3"
    },
    "language_info": {
      "name": "python"
    }
  },
  "cells": [
    {
      "cell_type": "markdown",
      "source": [
        "# Deep Fully Connected Neural Network with Tensorflow-Keras Sequential Model"
      ],
      "metadata": {
        "id": "qp0JcAsix3t4"
      }
    },
    {
      "cell_type": "code",
      "execution_count": 37,
      "metadata": {
        "colab": {
          "base_uri": "https://localhost:8080/"
        },
        "id": "hYzpdEECxj4r",
        "outputId": "1649ba1d-cead-4b9b-a524-8314986c93bf"
      },
      "outputs": [
        {
          "output_type": "stream",
          "name": "stdout",
          "text": [
            "Downloading data from https://storage.googleapis.com/tensorflow/tf-keras-datasets/mnist.npz\n",
            "11490434/11490434 [==============================] - 0s 0us/step\n"
          ]
        }
      ],
      "source": [
        "import tensorflow as tf\n",
        "\n",
        "# Load MNIST dataset\n",
        "(x_train, y_train), (x_test, y_test) = tf.keras.datasets.mnist.load_data()\n",
        "\n",
        "# Preprocess data\n",
        "x_train, x_test = x_train / 255.0, x_test / 255.0\n",
        "x_train = x_train.reshape(-1, 784)\n",
        "x_test = x_test.reshape(-1, 784)"
      ]
    },
    {
      "cell_type": "code",
      "source": [
        "\n",
        "\n",
        "print(type(x_train), x_train.shape)\n",
        "print(type(x_test), test_images.shape)\n",
        "print(type(y_train), y_train.shape)\n",
        "print(type(y_test), y_test.shape)\n"
      ],
      "metadata": {
        "colab": {
          "base_uri": "https://localhost:8080/"
        },
        "id": "i9FdDtqgycl4",
        "outputId": "833de6ed-d44d-49f6-b47f-31e8394b8fad"
      },
      "execution_count": 38,
      "outputs": [
        {
          "output_type": "stream",
          "name": "stdout",
          "text": [
            "<class 'numpy.ndarray'> (60000, 784)\n",
            "<class 'numpy.ndarray'> (10000, 784)\n",
            "<class 'numpy.ndarray'> (60000,)\n",
            "<class 'numpy.ndarray'> (10000,)\n"
          ]
        }
      ]
    },
    {
      "cell_type": "code",
      "source": [
        "from tensorflow import keras\n",
        "\n",
        "\n",
        "# Defining Sequential Model\n",
        "model = keras.models.Sequential([\n",
        "    keras.layers.Dense(512, activation = 'relu', input_shape = [28 * 28]),\n",
        "    keras.layers.Dense(512, activation = 'relu'),\n",
        "    keras.layers.Dense(10, activation = 'softmax')\n",
        "])\n",
        "\n",
        "model.compile(loss = 'sparse_categorical_crossentropy', optimizer = 'sgd', metrics=['accuracy'])\n",
        "\n",
        "model.fit(x_train, y_train, validation_data = (x_test, y_test), epochs = 10 )"
      ],
      "metadata": {
        "colab": {
          "base_uri": "https://localhost:8080/"
        },
        "id": "DxqIKP2by8CZ",
        "outputId": "b9279d8c-4822-49a7-e846-c533f4fd855e"
      },
      "execution_count": 41,
      "outputs": [
        {
          "output_type": "stream",
          "name": "stdout",
          "text": [
            "Epoch 1/10\n",
            "1875/1875 [==============================] - 22s 11ms/step - loss: 0.5746 - accuracy: 0.8555 - val_loss: 0.2984 - val_accuracy: 0.9153\n",
            "Epoch 2/10\n",
            "1875/1875 [==============================] - 19s 10ms/step - loss: 0.2738 - accuracy: 0.9218 - val_loss: 0.2446 - val_accuracy: 0.9287\n",
            "Epoch 3/10\n",
            "1875/1875 [==============================] - 18s 9ms/step - loss: 0.2209 - accuracy: 0.9371 - val_loss: 0.1967 - val_accuracy: 0.9434\n",
            "Epoch 4/10\n",
            "1875/1875 [==============================] - 17s 9ms/step - loss: 0.1875 - accuracy: 0.9462 - val_loss: 0.1717 - val_accuracy: 0.9506\n",
            "Epoch 5/10\n",
            "1875/1875 [==============================] - 18s 10ms/step - loss: 0.1620 - accuracy: 0.9536 - val_loss: 0.1526 - val_accuracy: 0.9559\n",
            "Epoch 6/10\n",
            "1875/1875 [==============================] - 17s 9ms/step - loss: 0.1419 - accuracy: 0.9588 - val_loss: 0.1386 - val_accuracy: 0.9591\n",
            "Epoch 7/10\n",
            "1875/1875 [==============================] - 19s 10ms/step - loss: 0.1270 - accuracy: 0.9639 - val_loss: 0.1241 - val_accuracy: 0.9637\n",
            "Epoch 8/10\n",
            "1875/1875 [==============================] - 18s 9ms/step - loss: 0.1140 - accuracy: 0.9676 - val_loss: 0.1176 - val_accuracy: 0.9659\n",
            "Epoch 9/10\n",
            "1875/1875 [==============================] - 18s 9ms/step - loss: 0.1033 - accuracy: 0.9706 - val_loss: 0.1068 - val_accuracy: 0.9677\n",
            "Epoch 10/10\n",
            "1875/1875 [==============================] - 18s 10ms/step - loss: 0.0941 - accuracy: 0.9733 - val_loss: 0.1028 - val_accuracy: 0.9698\n"
          ]
        },
        {
          "output_type": "execute_result",
          "data": {
            "text/plain": [
              "<keras.src.callbacks.History at 0x7bb413177370>"
            ]
          },
          "metadata": {},
          "execution_count": 41
        }
      ]
    }
  ]
}